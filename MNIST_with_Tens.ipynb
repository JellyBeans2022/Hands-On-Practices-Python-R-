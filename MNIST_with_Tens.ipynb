{
  "nbformat": 4,
  "nbformat_minor": 0,
  "metadata": {
    "colab": {
      "provenance": [],
      "include_colab_link": true
    },
    "kernelspec": {
      "name": "python3",
      "display_name": "Python 3"
    },
    "language_info": {
      "name": "python"
    }
  },
  "cells": [
    {
      "cell_type": "markdown",
      "metadata": {
        "id": "view-in-github",
        "colab_type": "text"
      },
      "source": [
        "<a href=\"https://colab.research.google.com/github/JellyBeans2022/Hands-On-Practices-Python-R-/blob/main/MNIST_with_Tens.ipynb\" target=\"_parent\"><img src=\"https://colab.research.google.com/assets/colab-badge.svg\" alt=\"Open In Colab\"/></a>"
      ]
    },
    {
      "cell_type": "markdown",
      "source": [
        "**1. Working with MNIST data - Tensorflow**"
      ],
      "metadata": {
        "id": "g0vCf8i-WHrD"
      }
    },
    {
      "cell_type": "code",
      "source": [
        "print(tf.__version__)\n",
        "# Importing the data set\n",
        "mnist = tf.keras.datasets.mnist"
      ],
      "metadata": {
        "id": "dKUpq4fStU7_"
      },
      "execution_count": null,
      "outputs": []
    },
    {
      "cell_type": "code",
      "source": [
        "# Download train and test set seperately\n",
        "(X_train,Y_train), (x_test,y_test) = mnist.load_data()"
      ],
      "metadata": {
        "id": "Ecvlo2yQtyOH"
      },
      "execution_count": null,
      "outputs": []
    },
    {
      "cell_type": "code",
      "source": [
        "X_train, x_test = (X_train/255.0), (x_test/255.0)"
      ],
      "metadata": {
        "id": "G9pJDu1ruXtA"
      },
      "execution_count": null,
      "outputs": []
    },
    {
      "cell_type": "code",
      "source": [
        "# Building the model\n",
        "model = tf.keras.models.Sequential([\n",
        "    tf.keras.layers.Flatten(input_shape = (28,28)),\n",
        "    tf.keras.layers.Dense(128, activation = 'relu'),\n",
        "    tf.keras.layers.Dropout(0.2),\n",
        "    tf.keras.layers.Dense(10)\n",
        "])"
      ],
      "metadata": {
        "id": "Ox0oczCr3adk"
      },
      "execution_count": null,
      "outputs": []
    },
    {
      "cell_type": "code",
      "source": [
        "# Generating the predictions\n",
        "predictions = model(X_train[:1]).numpy()\n",
        "predictions"
      ],
      "metadata": {
        "colab": {
          "base_uri": "https://localhost:8080/"
        },
        "id": "0HMhTM-l4Qvo",
        "outputId": "a1c084f8-b5c8-4649-c50b-949734d31e8c"
      },
      "execution_count": null,
      "outputs": [
        {
          "output_type": "execute_result",
          "data": {
            "text/plain": [
              "array([[-0.20693363,  0.03566077, -0.22227491, -0.8665309 , -0.08155899,\n",
              "        -0.03898935,  0.9069829 ,  0.4241465 , -0.34250113, -0.97259986]],\n",
              "      dtype=float32)"
            ]
          },
          "metadata": {},
          "execution_count": 19
        }
      ]
    },
    {
      "cell_type": "code",
      "source": [
        "# Converting above probabilities\n",
        "tf.nn.softmax(predictions).numpy()"
      ],
      "metadata": {
        "colab": {
          "base_uri": "https://localhost:8080/"
        },
        "id": "acjiQRR54ni1",
        "outputId": "33cf7ed4-2f07-4a0e-a0c1-4460d5604640"
      },
      "execution_count": null,
      "outputs": [
        {
          "output_type": "execute_result",
          "data": {
            "text/plain": [
              "array([[0.08092593, 0.10314426, 0.07969389, 0.04184352, 0.09173544,\n",
              "        0.0957249 , 0.24652188, 0.15211159, 0.07066615, 0.0376325 ]],\n",
              "      dtype=float32)"
            ]
          },
          "metadata": {},
          "execution_count": 20
        }
      ]
    },
    {
      "cell_type": "code",
      "source": [
        "loss_fn = tf.keras.losses.SparseCategoricalCrossentropy(from_logits=True)\n",
        "loss_fn\n",
        "# This loss equal to the negative log probability of the true class.\n",
        "# It is zero, if the model is sure of the correct class"
      ],
      "metadata": {
        "colab": {
          "base_uri": "https://localhost:8080/"
        },
        "id": "MIZSVn3p43wL",
        "outputId": "4280b78e-9446-44f1-8a82-b508214f3458"
      },
      "execution_count": null,
      "outputs": [
        {
          "output_type": "execute_result",
          "data": {
            "text/plain": [
              "<keras.losses.SparseCategoricalCrossentropy at 0x7fdd7b4086a0>"
            ]
          },
          "metadata": {},
          "execution_count": 23
        }
      ]
    },
    {
      "cell_type": "code",
      "source": [
        "loss_fn(Y_train[:1],predictions).numpy()"
      ],
      "metadata": {
        "colab": {
          "base_uri": "https://localhost:8080/"
        },
        "id": "rE99rj4d6a2i",
        "outputId": "7acd5fd0-e516-4db2-f57d-2a2c4face23f"
      },
      "execution_count": null,
      "outputs": [
        {
          "output_type": "execute_result",
          "data": {
            "text/plain": [
              "2.3462768"
            ]
          },
          "metadata": {},
          "execution_count": 24
        }
      ]
    },
    {
      "cell_type": "code",
      "source": [
        "model.compile(optimizer='adam',\n",
        "              loss=loss_fn,\n",
        "              metrics=['accuracy'])"
      ],
      "metadata": {
        "id": "GXtEgaUJ6qpO"
      },
      "execution_count": null,
      "outputs": []
    },
    {
      "cell_type": "code",
      "source": [
        "# Use to adjusts the model parameters to minimize the loss\n",
        "model.fit(X_train, Y_train, epochs=5)"
      ],
      "metadata": {
        "colab": {
          "base_uri": "https://localhost:8080/"
        },
        "id": "aCLAYDav7A38",
        "outputId": "edc4e34e-e4bd-406c-f763-bfd4249c51a9"
      },
      "execution_count": null,
      "outputs": [
        {
          "output_type": "stream",
          "name": "stdout",
          "text": [
            "Epoch 1/5\n",
            "1875/1875 [==============================] - 4s 2ms/step - loss: 0.2922 - accuracy: 0.9154\n",
            "Epoch 2/5\n",
            "1875/1875 [==============================] - 3s 2ms/step - loss: 0.1407 - accuracy: 0.9582\n",
            "Epoch 3/5\n",
            "1875/1875 [==============================] - 3s 2ms/step - loss: 0.1051 - accuracy: 0.9676\n",
            "Epoch 4/5\n",
            "1875/1875 [==============================] - 3s 2ms/step - loss: 0.0844 - accuracy: 0.9746\n",
            "Epoch 5/5\n",
            "1875/1875 [==============================] - 3s 2ms/step - loss: 0.0740 - accuracy: 0.9771\n"
          ]
        },
        {
          "output_type": "execute_result",
          "data": {
            "text/plain": [
              "<keras.callbacks.History at 0x7fdd7b3c5580>"
            ]
          },
          "metadata": {},
          "execution_count": 26
        }
      ]
    },
    {
      "cell_type": "code",
      "source": [
        "# Check the model performance\n",
        "model.evaluate(x_test,  y_test, verbose=2)"
      ],
      "metadata": {
        "colab": {
          "base_uri": "https://localhost:8080/"
        },
        "id": "Wnt43Wqp7TZS",
        "outputId": "d3490858-2a9f-4dba-8892-3e738141ff33"
      },
      "execution_count": null,
      "outputs": [
        {
          "output_type": "stream",
          "name": "stdout",
          "text": [
            "313/313 - 0s - loss: 0.0729 - accuracy: 0.9777 - 424ms/epoch - 1ms/step\n"
          ]
        },
        {
          "output_type": "execute_result",
          "data": {
            "text/plain": [
              "[0.07287350296974182, 0.9776999950408936]"
            ]
          },
          "metadata": {},
          "execution_count": 27
        }
      ]
    },
    {
      "cell_type": "code",
      "source": [
        "probability_model = tf.keras.Sequential([\n",
        "  model,\n",
        "  tf.keras.layers.Softmax()\n",
        "])"
      ],
      "metadata": {
        "id": "i5mT10xO7gKE"
      },
      "execution_count": null,
      "outputs": []
    },
    {
      "cell_type": "code",
      "source": [
        "# Predicting the test test\n",
        "probability_model(x_test[:5])"
      ],
      "metadata": {
        "colab": {
          "base_uri": "https://localhost:8080/"
        },
        "id": "G0szWfR37lWi",
        "outputId": "538017b3-8d41-470e-854e-9844025f3bba"
      },
      "execution_count": null,
      "outputs": [
        {
          "output_type": "execute_result",
          "data": {
            "text/plain": [
              "<tf.Tensor: shape=(5, 10), dtype=float32, numpy=\n",
              "array([[1.9758178e-07, 2.1446134e-07, 1.5439635e-05, 3.2626334e-04,\n",
              "        8.5458758e-12, 5.2434882e-07, 1.0479767e-13, 9.9965727e-01,\n",
              "        5.4164158e-08, 9.7504135e-08],\n",
              "       [2.3750831e-08, 5.8020596e-05, 9.9987841e-01, 6.2796687e-05,\n",
              "        7.0723909e-18, 3.6755446e-07, 3.7762495e-09, 5.5051195e-13,\n",
              "        3.0620254e-07, 4.0084663e-12],\n",
              "       [2.0964956e-07, 9.9799371e-01, 6.2948820e-04, 1.2115630e-05,\n",
              "        2.8079778e-05, 2.0439900e-06, 2.9371711e-06, 1.2412103e-03,\n",
              "        8.7497654e-05, 2.7342064e-06],\n",
              "       [9.9990594e-01, 9.3489316e-10, 8.4874751e-05, 4.9819022e-07,\n",
              "        1.8920774e-08, 4.5793209e-07, 4.1071539e-06, 4.5749778e-07,\n",
              "        4.3251884e-08, 3.5447033e-06],\n",
              "       [3.1545296e-06, 4.4634774e-08, 2.8965872e-04, 1.3280933e-06,\n",
              "        9.9725395e-01, 8.8592888e-06, 1.4171179e-05, 4.4376869e-05,\n",
              "        2.8227228e-06, 2.3816386e-03]], dtype=float32)>"
            ]
          },
          "metadata": {},
          "execution_count": 29
        }
      ]
    }
  ]
}